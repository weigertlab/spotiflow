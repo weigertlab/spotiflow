{
 "cells": [
  {
   "cell_type": "markdown",
   "id": "6dca17b2-9f03-4519-9e5a-19241ce76b73",
   "metadata": {
    "tags": []
   },
   "source": [
    "# Spotiflow: training your own model"
   ]
  },
  {
   "cell_type": "markdown",
   "id": "4b3ebdc4-b6a2-4a0e-b553-06ecf037cc37",
   "metadata": {},
   "source": [
    "Let's first load all the libraries we're gonna need to detect spots in our images."
   ]
  },
  {
   "cell_type": "code",
   "execution_count": null,
   "id": "c2138a5b-4ed2-4c00-ab5b-0d289ffa41e1",
   "metadata": {},
   "outputs": [],
   "source": [
    "from spotiflow.model import Spotiflow, SpotiflowModelConfig, SpotiflowTrainingConfig\n",
    "from spotiflow.sample_data import load_dataset\n",
    "from spotiflow.utils import get_data\n",
    "\n",
    "import matplotlib.pyplot as plt\n",
    "import numpy as np"
   ]
  },
  {
   "cell_type": "markdown",
   "id": "98b51535-bf2f-4ebd-bcbe-40d561c9792e",
   "metadata": {},
   "source": [
    "Then, we can load our dataset. We will use one of the training datasets of the paper, corresponding to the `Synthetic (complex)` dataset (which is a good starting point if you want to then fine-tune on your own data). If you have your own annotated data, you can load it and store it in six different variables corresponding to the training images and spots, to the validation images and spots and to the test images and spots. You can use the `load_data()` function to that end (please [see the docs](https://weigertlab.github.io/spotiflow) to check the data format that the function allows)."
   ]
  },
  {
   "cell_type": "code",
   "execution_count": null,
   "id": "579a5acb-1ebc-436b-a794-23ce6e9f94d1",
   "metadata": {},
   "outputs": [],
   "source": [
    "trX, trY, valX, valY, testX, testY = load_dataset(\"synth_complex\", include_test=True)\n",
    "# trX, trY, valX, valY, testX, testY = get_data(\"/FOLDER/WITH/DATA\", include_test=True)"
   ]
  },
  {
   "cell_type": "markdown",
   "id": "74a14129-713d-432d-9e32-59dc1463d86d",
   "metadata": {},
   "source": [
    "The first two variables should contain the training images and annotations, while the latter the validation ones. Let's define a function that will help us visualize them together. "
   ]
  },
  {
   "cell_type": "code",
   "execution_count": null,
   "id": "ca5e446c-fea5-44df-a6cb-3058e0ce7985",
   "metadata": {},
   "outputs": [],
   "source": [
    "def plot_image_with_spots(img, spots, title=None, pred=False):\n",
    "    fig, axs = plt.subplots(1, 2, figsize=(12, 6))\n",
    "    clim = tuple(np.percentile(img, (1, 99.8)))\n",
    "    axs.flat[0].imshow(img, clim=clim, cmap=\"gray\")\n",
    "    axs.flat[1].imshow(img, clim=clim, cmap=\"gray\")\n",
    "    axs.flat[1].scatter(spots[:,1], spots[:,0], facecolors='none', edgecolors='orange')\n",
    "    \n",
    "    axs.flat[0].axis(\"off\")\n",
    "    axs.flat[1].axis(\"off\")\n",
    "    if isinstance(title, str):\n",
    "        title_subp0 = f\"{title}\"\n",
    "        title_subp1 = f\"{title} (w/ {'annotation' if not pred else 'prediction'})\"\n",
    "        axs.flat[0].set_title(title_subp0)\n",
    "        axs.flat[1].set_title(title_subp1)\n",
    "    return"
   ]
  },
  {
   "cell_type": "markdown",
   "id": "09917553-b5df-419d-8cb5-f0ee30a0ba39",
   "metadata": {},
   "source": [
    "We can now visualize the images with their annotations. These are the first two images of the training dataset (change the indices to see others!): "
   ]
  },
  {
   "cell_type": "code",
   "execution_count": null,
   "id": "25862664-1c9e-415c-a76d-ef05c5ff4b54",
   "metadata": {},
   "outputs": [],
   "source": [
    "plot_image_with_spots(trX[0], trY[0], title=\"Training image\")\n",
    "plot_image_with_spots(trX[1], trY[1], title=\"Training image\")"
   ]
  },
  {
   "cell_type": "markdown",
   "id": "9fce9b9f-41db-4ca6-8f2d-096a7575593e",
   "metadata": {},
   "source": [
    "And here are the last two images of the validation dataset:"
   ]
  },
  {
   "cell_type": "code",
   "execution_count": null,
   "id": "7e75cf94-54dc-476e-8e6a-9da674f81561",
   "metadata": {},
   "outputs": [],
   "source": [
    "plot_image_with_spots(valX[-2], valY[-2], title=\"Validation image\")\n",
    "plot_image_with_spots(valX[-1], valY[-1], title=\"Validation image\")"
   ]
  },
  {
   "cell_type": "markdown",
   "id": "6b385ee0-323d-4efa-be41-9b9fe423017c",
   "metadata": {},
   "source": [
    "The images and the corresponding annotations look good, so we can now train our own Spotiflow model on this data! Training with the default model configuration is very straightforward. First we need to instantiate the model:"
   ]
  },
  {
   "cell_type": "code",
   "execution_count": null,
   "id": "4d9b99cb-114c-4c7d-8d97-eee30599804a",
   "metadata": {},
   "outputs": [],
   "source": [
    "model = Spotiflow()"
   ]
  },
  {
   "cell_type": "markdown",
   "id": "1810f36a-2318-430c-89ed-7d129eb8bcb2",
   "metadata": {},
   "source": [
    "Notice that the config is populated with the default values. If you want to change some of the parameters, you can uncomment the following block and change the parameters accordingly (for more information, check [the documentation](https://weigertlab.github.io/spotiflow)):"
   ]
  },
  {
   "cell_type": "code",
   "execution_count": null,
   "id": "a9e41080-6b9f-44b8-aa7f-b8f533ccb60b",
   "metadata": {},
   "outputs": [],
   "source": [
    "# config = SpotiflowModelConfig(\n",
    "#     in_channels=3, # e.g. for RGB\n",
    "#     sigma=5., # for larger spots\n",
    "# )\n",
    "# model = Spotiflow(config=config)"
   ]
  },
  {
   "cell_type": "markdown",
   "id": "580f0445-4cb6-49da-9e18-512e7e501281",
   "metadata": {},
   "source": [
    "We can now train the model with calling `.fit()` after setting where we want the model to be stored. Again, you will notice that a training configuration is automatically populated. If you want to change some values (_e.g._ the number of epochs), simply uncomment the lines and change the parameters accordingly (for more information, check [the documentation](https://weigertlab.github.io/spotiflow)):"
   ]
  },
  {
   "cell_type": "code",
   "execution_count": null,
   "id": "f37e8f49-cc73-4761-a2dc-17f181ac4d66",
   "metadata": {},
   "outputs": [],
   "source": [
    "save_folder = \"models/synth_complex\" # change to where you want to store the model\n",
    "train_config = SpotiflowTrainingConfig(\n",
    "    num_epochs=2, # very small number of epochs for debugging purposes\n",
    ")\n",
    "model.fit(\n",
    "    trX,\n",
    "    trY,\n",
    "    valX,\n",
    "    valY,\n",
    "    save_dir=save_folder,\n",
    "    train_config=train_config,\n",
    ")"
   ]
  },
  {
   "cell_type": "markdown",
   "id": "f0000786-69b0-4332-8346-c73b86bf3415",
   "metadata": {},
   "source": [
    "Our model is now ready to be used! Let's first check the save folder to make sure the model was stored properly (there should be two `.pt` files (`best.pt` and `last.pt`) as well as three `.yaml` configuration files.)"
   ]
  },
  {
   "cell_type": "code",
   "execution_count": null,
   "id": "79da07cb-100c-4ff6-9588-a83e9b6286f2",
   "metadata": {},
   "outputs": [],
   "source": [
    "!ls $save_folder"
   ]
  },
  {
   "cell_type": "markdown",
   "id": "55ca3e53-89d6-459b-bf97-af871b34fcab",
   "metadata": {},
   "source": [
    "We can also quickly predict on a test image which was not seen during training (see [the inference notebook](./2_inference.ipynb) for more information about predicting as well as model loading): "
   ]
  },
  {
   "cell_type": "code",
   "execution_count": null,
   "id": "f1972096-aa37-40a1-b90b-900c61202f0c",
   "metadata": {},
   "outputs": [],
   "source": [
    "test_pred, _ = model.predict(testX[0])\n",
    "\n",
    "plot_image_with_spots(testX[0], test_pred, title=\"Test image\", pred=True)"
   ]
  },
  {
   "cell_type": "markdown",
   "id": "60ce51f9-ef83-4b2e-9a70-57f4a9430487",
   "metadata": {},
   "source": [
    "This notebook shows the most user-friendly way to train models. If you want to dive deeper into the model architecture and tweak the code and you are already comfortable with training DL models, please check [the documentation](https://weigertlab.github.io/spotiflow) to get started."
   ]
  },
  {
   "cell_type": "markdown",
   "id": "a6d34ee6",
   "metadata": {},
   "source": []
  }
 ],
 "metadata": {
  "kernelspec": {
   "display_name": "spotiflow",
   "language": "python",
   "name": "python3"
  },
  "language_info": {
   "codemirror_mode": {
    "name": "ipython",
    "version": 3
   },
   "file_extension": ".py",
   "mimetype": "text/x-python",
   "name": "python",
   "nbconvert_exporter": "python",
   "pygments_lexer": "ipython3",
   "version": "3.11.11"
  }
 },
 "nbformat": 4,
 "nbformat_minor": 5
}
